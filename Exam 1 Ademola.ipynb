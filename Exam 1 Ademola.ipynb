{
 "cells": [
  {
   "cell_type": "markdown",
   "id": "06dc70ff",
   "metadata": {},
   "source": [
    "### CVEN Exam 1"
   ]
  },
  {
   "cell_type": "markdown",
   "id": "84fdca93",
   "metadata": {},
   "source": [
    "### Question 2"
   ]
  },
  {
   "cell_type": "code",
   "execution_count": 6,
   "id": "bd443c23",
   "metadata": {},
   "outputs": [],
   "source": [
    "### import libraries\n",
    "import os\n",
    "import pandas as pd\n",
    "from matplotlib import pyplot as plt"
   ]
  },
  {
   "cell_type": "code",
   "execution_count": 7,
   "id": "b59d534d",
   "metadata": {},
   "outputs": [],
   "source": [
    "#set working directory and read data\n",
    "path = 'D:\\CVEN 5301 Python'\n",
    "os.chdir(path)"
   ]
  },
  {
   "cell_type": "code",
   "execution_count": 9,
   "id": "2a29260b",
   "metadata": {},
   "outputs": [
    {
     "data": {
      "text/html": [
       "<div>\n",
       "<style scoped>\n",
       "    .dataframe tbody tr th:only-of-type {\n",
       "        vertical-align: middle;\n",
       "    }\n",
       "\n",
       "    .dataframe tbody tr th {\n",
       "        vertical-align: top;\n",
       "    }\n",
       "\n",
       "    .dataframe thead th {\n",
       "        text-align: right;\n",
       "    }\n",
       "</style>\n",
       "<table border=\"1\" class=\"dataframe\">\n",
       "  <thead>\n",
       "    <tr style=\"text-align: right;\">\n",
       "      <th></th>\n",
       "      <th>Year</th>\n",
       "      <th>Pop</th>\n",
       "    </tr>\n",
       "  </thead>\n",
       "  <tbody>\n",
       "    <tr>\n",
       "      <th>0</th>\n",
       "      <td>2010</td>\n",
       "      <td>309327143</td>\n",
       "    </tr>\n",
       "    <tr>\n",
       "      <th>1</th>\n",
       "      <td>2011</td>\n",
       "      <td>311583481</td>\n",
       "    </tr>\n",
       "    <tr>\n",
       "      <th>2</th>\n",
       "      <td>2012</td>\n",
       "      <td>313877662</td>\n",
       "    </tr>\n",
       "    <tr>\n",
       "      <th>3</th>\n",
       "      <td>2013</td>\n",
       "      <td>316059947</td>\n",
       "    </tr>\n",
       "    <tr>\n",
       "      <th>4</th>\n",
       "      <td>2014</td>\n",
       "      <td>318386329</td>\n",
       "    </tr>\n",
       "    <tr>\n",
       "      <th>5</th>\n",
       "      <td>2015</td>\n",
       "      <td>320738994</td>\n",
       "    </tr>\n",
       "    <tr>\n",
       "      <th>6</th>\n",
       "      <td>2016</td>\n",
       "      <td>323071755</td>\n",
       "    </tr>\n",
       "    <tr>\n",
       "      <th>7</th>\n",
       "      <td>2017</td>\n",
       "      <td>325122128</td>\n",
       "    </tr>\n",
       "    <tr>\n",
       "      <th>8</th>\n",
       "      <td>2018</td>\n",
       "      <td>326838199</td>\n",
       "    </tr>\n",
       "    <tr>\n",
       "      <th>9</th>\n",
       "      <td>2019</td>\n",
       "      <td>328329953</td>\n",
       "    </tr>\n",
       "    <tr>\n",
       "      <th>10</th>\n",
       "      <td>2020</td>\n",
       "      <td>329484123</td>\n",
       "    </tr>\n",
       "  </tbody>\n",
       "</table>\n",
       "</div>"
      ],
      "text/plain": [
       "    Year        Pop\n",
       "0   2010  309327143\n",
       "1   2011  311583481\n",
       "2   2012  313877662\n",
       "3   2013  316059947\n",
       "4   2014  318386329\n",
       "5   2015  320738994\n",
       "6   2016  323071755\n",
       "7   2017  325122128\n",
       "8   2018  326838199\n",
       "9   2019  328329953\n",
       "10  2020  329484123"
      ]
     },
     "execution_count": 9,
     "metadata": {},
     "output_type": "execute_result"
    }
   ],
   "source": [
    "#Read population file\n",
    "p = pd.read_csv('US_population.csv')\n",
    "p"
   ]
  },
  {
   "cell_type": "code",
   "execution_count": 12,
   "id": "2ef1b06b",
   "metadata": {},
   "outputs": [
    {
     "data": {
      "text/plain": [
       "<bound method DataFrame.pop of     Year        Pop\n",
       "0   2010  309327143\n",
       "1   2011  311583481\n",
       "2   2012  313877662\n",
       "3   2013  316059947\n",
       "4   2014  318386329\n",
       "5   2015  320738994\n",
       "6   2016  323071755\n",
       "7   2017  325122128\n",
       "8   2018  326838199\n",
       "9   2019  328329953\n",
       "10  2020  329484123>"
      ]
     },
     "execution_count": 12,
     "metadata": {},
     "output_type": "execute_result"
    }
   ],
   "source": [
    "x = p.Year\n",
    "x\n",
    "y = p.pop\n",
    "y"
   ]
  },
  {
   "cell_type": "markdown",
   "id": "420e3d24",
   "metadata": {},
   "source": [
    "### Plot table"
   ]
  },
  {
   "cell_type": "code",
   "execution_count": 14,
   "id": "cab6fcf3",
   "metadata": {},
   "outputs": [
    {
     "ename": "NameError",
     "evalue": "name 'Year' is not defined",
     "output_type": "error",
     "traceback": [
      "\u001b[1;31m---------------------------------------------------------------------------\u001b[0m",
      "\u001b[1;31mNameError\u001b[0m                                 Traceback (most recent call last)",
      "\u001b[1;32m~\\AppData\\Local\\Temp\\ipykernel_24784\\1698835003.py\u001b[0m in \u001b[0;36m<module>\u001b[1;34m\u001b[0m\n\u001b[1;32m----> 1\u001b[1;33m \u001b[0mplt\u001b[0m\u001b[1;33m.\u001b[0m\u001b[0mplot\u001b[0m\u001b[1;33m(\u001b[0m\u001b[0mYear\u001b[0m\u001b[1;33m,\u001b[0m\u001b[0mpop\u001b[0m\u001b[1;33m)\u001b[0m\u001b[1;33m\u001b[0m\u001b[1;33m\u001b[0m\u001b[0m\n\u001b[0m\u001b[0;32m      2\u001b[0m \u001b[1;33m\u001b[0m\u001b[0m\n\u001b[0;32m      3\u001b[0m \u001b[1;33m\u001b[0m\u001b[0m\n\u001b[0;32m      4\u001b[0m \u001b[0mplt\u001b[0m\u001b[1;33m.\u001b[0m\u001b[0mxlabel\u001b[0m\u001b[1;33m(\u001b[0m\u001b[1;34m\"Year\"\u001b[0m\u001b[1;33m)\u001b[0m\u001b[1;33m\u001b[0m\u001b[1;33m\u001b[0m\u001b[0m\n\u001b[0;32m      5\u001b[0m \u001b[0mplt\u001b[0m\u001b[1;33m.\u001b[0m\u001b[0mylabel\u001b[0m\u001b[1;33m(\u001b[0m\u001b[1;34m\"Population\"\u001b[0m\u001b[1;33m)\u001b[0m\u001b[1;33m\u001b[0m\u001b[1;33m\u001b[0m\u001b[0m\n",
      "\u001b[1;31mNameError\u001b[0m: name 'Year' is not defined"
     ]
    }
   ],
   "source": [
    "plt.plot(Year,pop)\n",
    "\n",
    "\n",
    "plt.xlabel(\"Year\") \n",
    "plt.ylabel(\"Population\") \n",
    "plt.legend()\n",
    "\n",
    "plt.show()"
   ]
  },
  {
   "cell_type": "code",
   "execution_count": null,
   "id": "041e2ac7",
   "metadata": {},
   "outputs": [],
   "source": []
  },
  {
   "cell_type": "markdown",
   "id": "244d87f0",
   "metadata": {},
   "source": [
    "### Question 3"
   ]
  },
  {
   "cell_type": "markdown",
   "id": "4602745e",
   "metadata": {},
   "source": [
    "#### To determine total deflection of a cantilever beam subject to uniform load q\n",
    "L=Length; E = elastic modulus; I= moment of inertia; q = uniform loading; F = point loads; a = length at Point Load A; b = load at point load B "
   ]
  },
  {
   "cell_type": "code",
   "execution_count": 1,
   "id": "ea7603ee",
   "metadata": {},
   "outputs": [],
   "source": [
    "# assign variable values\n",
    "L = 25000\n",
    "F = 250\n",
    "a = 10000\n",
    "b = 15000 #(b = L-a)\n",
    "E = 200000\n",
    "q = 250\n",
    "I = 81960000"
   ]
  },
  {
   "cell_type": "code",
   "execution_count": null,
   "id": "06c175cb",
   "metadata": {},
   "outputs": [],
   "source": [
    "def maxdefl(F,a,b,E,I,q):\n",
    "    maxdefl = ((F*a**3)/8*E*I)(1+(3*a)/2*b)\n",
    "    return round(maxdefl,4) # return the values rounded to 4 decimal places\n",
    "defs = maxdefl(F,a,b,E,I,q)\n",
    "defs"
   ]
  }
 ],
 "metadata": {
  "kernelspec": {
   "display_name": "Python 3 (ipykernel)",
   "language": "python",
   "name": "python3"
  },
  "language_info": {
   "codemirror_mode": {
    "name": "ipython",
    "version": 3
   },
   "file_extension": ".py",
   "mimetype": "text/x-python",
   "name": "python",
   "nbconvert_exporter": "python",
   "pygments_lexer": "ipython3",
   "version": "3.9.12"
  }
 },
 "nbformat": 4,
 "nbformat_minor": 5
}
